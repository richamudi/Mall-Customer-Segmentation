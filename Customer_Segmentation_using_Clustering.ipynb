{
  "nbformat": 4,
  "nbformat_minor": 0,
  "metadata": {
    "colab": {
      "provenance": []
    },
    "kernelspec": {
      "name": "python3",
      "display_name": "Python 3"
    },
    "language_info": {
      "name": "python"
    }
  },
  "cells": [
    {
      "cell_type": "markdown",
      "source": [
        "Importing the libraries"
      ],
      "metadata": {
        "id": "vudzOoBiHsq-"
      }
    },
    {
      "cell_type": "code",
      "execution_count": null,
      "metadata": {
        "id": "yZNzDhWrHcvJ"
      },
      "outputs": [],
      "source": [
        "import numpy as np\n",
        "import pandas as pd\n",
        "import matplotlib.pyplot as plt\n",
        "import seaborn as sns"
      ]
    },
    {
      "cell_type": "markdown",
      "source": [
        "Import Dataset"
      ],
      "metadata": {
        "id": "U1ELlR9XxQoW"
      }
    },
    {
      "cell_type": "code",
      "source": [
        "dataset= pd.read_csv('/content/drive/MyDrive/Interships/Sample Datasets/Mall_Customers.csv')"
      ],
      "metadata": {
        "id": "9mZoDXbwxTBi"
      },
      "execution_count": null,
      "outputs": []
    },
    {
      "cell_type": "code",
      "source": [
        "print(dataset)"
      ],
      "metadata": {
        "colab": {
          "base_uri": "https://localhost:8080/"
        },
        "id": "7ynoOC1d01wo",
        "outputId": "ae7551cf-c8b1-4e49-d030-1efc92b6d697"
      },
      "execution_count": null,
      "outputs": [
        {
          "output_type": "stream",
          "name": "stdout",
          "text": [
            "     CustomerID  Gender  Age  Annual Income (k$)  Spending Score (1-100)\n",
            "0             1    Male   19                  15                      39\n",
            "1             2    Male   21                  15                      81\n",
            "2             3  Female   20                  16                       6\n",
            "3             4  Female   23                  16                      77\n",
            "4             5  Female   31                  17                      40\n",
            "..          ...     ...  ...                 ...                     ...\n",
            "195         196  Female   35                 120                      79\n",
            "196         197  Female   45                 126                      28\n",
            "197         198    Male   32                 126                      74\n",
            "198         199    Male   32                 137                      18\n",
            "199         200    Male   30                 137                      83\n",
            "\n",
            "[200 rows x 5 columns]\n"
          ]
        }
      ]
    },
    {
      "cell_type": "markdown",
      "source": [
        "**Understanding the data**"
      ],
      "metadata": {
        "id": "HC6m4JkAeUBa"
      }
    },
    {
      "cell_type": "code",
      "source": [
        "dataset.head()"
      ],
      "metadata": {
        "id": "u1lGLoJQ1LAK",
        "colab": {
          "base_uri": "https://localhost:8080/",
          "height": 206
        },
        "outputId": "f9b12644-ecea-4e54-864f-9e58d2a7d119"
      },
      "execution_count": null,
      "outputs": [
        {
          "output_type": "execute_result",
          "data": {
            "text/plain": [
              "   CustomerID  Gender  Age  Annual Income (k$)  Spending Score (1-100)\n",
              "0           1    Male   19                  15                      39\n",
              "1           2    Male   21                  15                      81\n",
              "2           3  Female   20                  16                       6\n",
              "3           4  Female   23                  16                      77\n",
              "4           5  Female   31                  17                      40"
            ],
            "text/html": [
              "\n",
              "  <div id=\"df-1c20bc78-2070-43ac-8a81-d4d516c369d2\" class=\"colab-df-container\">\n",
              "    <div>\n",
              "<style scoped>\n",
              "    .dataframe tbody tr th:only-of-type {\n",
              "        vertical-align: middle;\n",
              "    }\n",
              "\n",
              "    .dataframe tbody tr th {\n",
              "        vertical-align: top;\n",
              "    }\n",
              "\n",
              "    .dataframe thead th {\n",
              "        text-align: right;\n",
              "    }\n",
              "</style>\n",
              "<table border=\"1\" class=\"dataframe\">\n",
              "  <thead>\n",
              "    <tr style=\"text-align: right;\">\n",
              "      <th></th>\n",
              "      <th>CustomerID</th>\n",
              "      <th>Gender</th>\n",
              "      <th>Age</th>\n",
              "      <th>Annual Income (k$)</th>\n",
              "      <th>Spending Score (1-100)</th>\n",
              "    </tr>\n",
              "  </thead>\n",
              "  <tbody>\n",
              "    <tr>\n",
              "      <th>0</th>\n",
              "      <td>1</td>\n",
              "      <td>Male</td>\n",
              "      <td>19</td>\n",
              "      <td>15</td>\n",
              "      <td>39</td>\n",
              "    </tr>\n",
              "    <tr>\n",
              "      <th>1</th>\n",
              "      <td>2</td>\n",
              "      <td>Male</td>\n",
              "      <td>21</td>\n",
              "      <td>15</td>\n",
              "      <td>81</td>\n",
              "    </tr>\n",
              "    <tr>\n",
              "      <th>2</th>\n",
              "      <td>3</td>\n",
              "      <td>Female</td>\n",
              "      <td>20</td>\n",
              "      <td>16</td>\n",
              "      <td>6</td>\n",
              "    </tr>\n",
              "    <tr>\n",
              "      <th>3</th>\n",
              "      <td>4</td>\n",
              "      <td>Female</td>\n",
              "      <td>23</td>\n",
              "      <td>16</td>\n",
              "      <td>77</td>\n",
              "    </tr>\n",
              "    <tr>\n",
              "      <th>4</th>\n",
              "      <td>5</td>\n",
              "      <td>Female</td>\n",
              "      <td>31</td>\n",
              "      <td>17</td>\n",
              "      <td>40</td>\n",
              "    </tr>\n",
              "  </tbody>\n",
              "</table>\n",
              "</div>\n",
              "    <div class=\"colab-df-buttons\">\n",
              "\n",
              "  <div class=\"colab-df-container\">\n",
              "    <button class=\"colab-df-convert\" onclick=\"convertToInteractive('df-1c20bc78-2070-43ac-8a81-d4d516c369d2')\"\n",
              "            title=\"Convert this dataframe to an interactive table.\"\n",
              "            style=\"display:none;\">\n",
              "\n",
              "  <svg xmlns=\"http://www.w3.org/2000/svg\" height=\"24px\" viewBox=\"0 -960 960 960\">\n",
              "    <path d=\"M120-120v-720h720v720H120Zm60-500h600v-160H180v160Zm220 220h160v-160H400v160Zm0 220h160v-160H400v160ZM180-400h160v-160H180v160Zm440 0h160v-160H620v160ZM180-180h160v-160H180v160Zm440 0h160v-160H620v160Z\"/>\n",
              "  </svg>\n",
              "    </button>\n",
              "\n",
              "  <style>\n",
              "    .colab-df-container {\n",
              "      display:flex;\n",
              "      gap: 12px;\n",
              "    }\n",
              "\n",
              "    .colab-df-convert {\n",
              "      background-color: #E8F0FE;\n",
              "      border: none;\n",
              "      border-radius: 50%;\n",
              "      cursor: pointer;\n",
              "      display: none;\n",
              "      fill: #1967D2;\n",
              "      height: 32px;\n",
              "      padding: 0 0 0 0;\n",
              "      width: 32px;\n",
              "    }\n",
              "\n",
              "    .colab-df-convert:hover {\n",
              "      background-color: #E2EBFA;\n",
              "      box-shadow: 0px 1px 2px rgba(60, 64, 67, 0.3), 0px 1px 3px 1px rgba(60, 64, 67, 0.15);\n",
              "      fill: #174EA6;\n",
              "    }\n",
              "\n",
              "    .colab-df-buttons div {\n",
              "      margin-bottom: 4px;\n",
              "    }\n",
              "\n",
              "    [theme=dark] .colab-df-convert {\n",
              "      background-color: #3B4455;\n",
              "      fill: #D2E3FC;\n",
              "    }\n",
              "\n",
              "    [theme=dark] .colab-df-convert:hover {\n",
              "      background-color: #434B5C;\n",
              "      box-shadow: 0px 1px 3px 1px rgba(0, 0, 0, 0.15);\n",
              "      filter: drop-shadow(0px 1px 2px rgba(0, 0, 0, 0.3));\n",
              "      fill: #FFFFFF;\n",
              "    }\n",
              "  </style>\n",
              "\n",
              "    <script>\n",
              "      const buttonEl =\n",
              "        document.querySelector('#df-1c20bc78-2070-43ac-8a81-d4d516c369d2 button.colab-df-convert');\n",
              "      buttonEl.style.display =\n",
              "        google.colab.kernel.accessAllowed ? 'block' : 'none';\n",
              "\n",
              "      async function convertToInteractive(key) {\n",
              "        const element = document.querySelector('#df-1c20bc78-2070-43ac-8a81-d4d516c369d2');\n",
              "        const dataTable =\n",
              "          await google.colab.kernel.invokeFunction('convertToInteractive',\n",
              "                                                    [key], {});\n",
              "        if (!dataTable) return;\n",
              "\n",
              "        const docLinkHtml = 'Like what you see? Visit the ' +\n",
              "          '<a target=\"_blank\" href=https://colab.research.google.com/notebooks/data_table.ipynb>data table notebook</a>'\n",
              "          + ' to learn more about interactive tables.';\n",
              "        element.innerHTML = '';\n",
              "        dataTable['output_type'] = 'display_data';\n",
              "        await google.colab.output.renderOutput(dataTable, element);\n",
              "        const docLink = document.createElement('div');\n",
              "        docLink.innerHTML = docLinkHtml;\n",
              "        element.appendChild(docLink);\n",
              "      }\n",
              "    </script>\n",
              "  </div>\n",
              "\n",
              "\n",
              "    <div id=\"df-2d1bd60a-58f3-4f7b-8efa-ec8b590392c2\">\n",
              "      <button class=\"colab-df-quickchart\" onclick=\"quickchart('df-2d1bd60a-58f3-4f7b-8efa-ec8b590392c2')\"\n",
              "                title=\"Suggest charts\"\n",
              "                style=\"display:none;\">\n",
              "\n",
              "<svg xmlns=\"http://www.w3.org/2000/svg\" height=\"24px\"viewBox=\"0 0 24 24\"\n",
              "     width=\"24px\">\n",
              "    <g>\n",
              "        <path d=\"M19 3H5c-1.1 0-2 .9-2 2v14c0 1.1.9 2 2 2h14c1.1 0 2-.9 2-2V5c0-1.1-.9-2-2-2zM9 17H7v-7h2v7zm4 0h-2V7h2v10zm4 0h-2v-4h2v4z\"/>\n",
              "    </g>\n",
              "</svg>\n",
              "      </button>\n",
              "\n",
              "<style>\n",
              "  .colab-df-quickchart {\n",
              "      --bg-color: #E8F0FE;\n",
              "      --fill-color: #1967D2;\n",
              "      --hover-bg-color: #E2EBFA;\n",
              "      --hover-fill-color: #174EA6;\n",
              "      --disabled-fill-color: #AAA;\n",
              "      --disabled-bg-color: #DDD;\n",
              "  }\n",
              "\n",
              "  [theme=dark] .colab-df-quickchart {\n",
              "      --bg-color: #3B4455;\n",
              "      --fill-color: #D2E3FC;\n",
              "      --hover-bg-color: #434B5C;\n",
              "      --hover-fill-color: #FFFFFF;\n",
              "      --disabled-bg-color: #3B4455;\n",
              "      --disabled-fill-color: #666;\n",
              "  }\n",
              "\n",
              "  .colab-df-quickchart {\n",
              "    background-color: var(--bg-color);\n",
              "    border: none;\n",
              "    border-radius: 50%;\n",
              "    cursor: pointer;\n",
              "    display: none;\n",
              "    fill: var(--fill-color);\n",
              "    height: 32px;\n",
              "    padding: 0;\n",
              "    width: 32px;\n",
              "  }\n",
              "\n",
              "  .colab-df-quickchart:hover {\n",
              "    background-color: var(--hover-bg-color);\n",
              "    box-shadow: 0 1px 2px rgba(60, 64, 67, 0.3), 0 1px 3px 1px rgba(60, 64, 67, 0.15);\n",
              "    fill: var(--button-hover-fill-color);\n",
              "  }\n",
              "\n",
              "  .colab-df-quickchart-complete:disabled,\n",
              "  .colab-df-quickchart-complete:disabled:hover {\n",
              "    background-color: var(--disabled-bg-color);\n",
              "    fill: var(--disabled-fill-color);\n",
              "    box-shadow: none;\n",
              "  }\n",
              "\n",
              "  .colab-df-spinner {\n",
              "    border: 2px solid var(--fill-color);\n",
              "    border-color: transparent;\n",
              "    border-bottom-color: var(--fill-color);\n",
              "    animation:\n",
              "      spin 1s steps(1) infinite;\n",
              "  }\n",
              "\n",
              "  @keyframes spin {\n",
              "    0% {\n",
              "      border-color: transparent;\n",
              "      border-bottom-color: var(--fill-color);\n",
              "      border-left-color: var(--fill-color);\n",
              "    }\n",
              "    20% {\n",
              "      border-color: transparent;\n",
              "      border-left-color: var(--fill-color);\n",
              "      border-top-color: var(--fill-color);\n",
              "    }\n",
              "    30% {\n",
              "      border-color: transparent;\n",
              "      border-left-color: var(--fill-color);\n",
              "      border-top-color: var(--fill-color);\n",
              "      border-right-color: var(--fill-color);\n",
              "    }\n",
              "    40% {\n",
              "      border-color: transparent;\n",
              "      border-right-color: var(--fill-color);\n",
              "      border-top-color: var(--fill-color);\n",
              "    }\n",
              "    60% {\n",
              "      border-color: transparent;\n",
              "      border-right-color: var(--fill-color);\n",
              "    }\n",
              "    80% {\n",
              "      border-color: transparent;\n",
              "      border-right-color: var(--fill-color);\n",
              "      border-bottom-color: var(--fill-color);\n",
              "    }\n",
              "    90% {\n",
              "      border-color: transparent;\n",
              "      border-bottom-color: var(--fill-color);\n",
              "    }\n",
              "  }\n",
              "</style>\n",
              "\n",
              "      <script>\n",
              "        async function quickchart(key) {\n",
              "          const quickchartButtonEl =\n",
              "            document.querySelector('#' + key + ' button');\n",
              "          quickchartButtonEl.disabled = true;  // To prevent multiple clicks.\n",
              "          quickchartButtonEl.classList.add('colab-df-spinner');\n",
              "          try {\n",
              "            const charts = await google.colab.kernel.invokeFunction(\n",
              "                'suggestCharts', [key], {});\n",
              "          } catch (error) {\n",
              "            console.error('Error during call to suggestCharts:', error);\n",
              "          }\n",
              "          quickchartButtonEl.classList.remove('colab-df-spinner');\n",
              "          quickchartButtonEl.classList.add('colab-df-quickchart-complete');\n",
              "        }\n",
              "        (() => {\n",
              "          let quickchartButtonEl =\n",
              "            document.querySelector('#df-2d1bd60a-58f3-4f7b-8efa-ec8b590392c2 button');\n",
              "          quickchartButtonEl.style.display =\n",
              "            google.colab.kernel.accessAllowed ? 'block' : 'none';\n",
              "        })();\n",
              "      </script>\n",
              "    </div>\n",
              "\n",
              "    </div>\n",
              "  </div>\n"
            ],
            "application/vnd.google.colaboratory.intrinsic+json": {
              "type": "dataframe",
              "variable_name": "dataset",
              "summary": "{\n  \"name\": \"dataset\",\n  \"rows\": 200,\n  \"fields\": [\n    {\n      \"column\": \"CustomerID\",\n      \"properties\": {\n        \"dtype\": \"number\",\n        \"std\": 57,\n        \"min\": 1,\n        \"max\": 200,\n        \"num_unique_values\": 200,\n        \"samples\": [\n          96,\n          16,\n          31\n        ],\n        \"semantic_type\": \"\",\n        \"description\": \"\"\n      }\n    },\n    {\n      \"column\": \"Gender\",\n      \"properties\": {\n        \"dtype\": \"category\",\n        \"num_unique_values\": 2,\n        \"samples\": [\n          \"Female\",\n          \"Male\"\n        ],\n        \"semantic_type\": \"\",\n        \"description\": \"\"\n      }\n    },\n    {\n      \"column\": \"Age\",\n      \"properties\": {\n        \"dtype\": \"number\",\n        \"std\": 13,\n        \"min\": 18,\n        \"max\": 70,\n        \"num_unique_values\": 51,\n        \"samples\": [\n          55,\n          26\n        ],\n        \"semantic_type\": \"\",\n        \"description\": \"\"\n      }\n    },\n    {\n      \"column\": \"Annual Income (k$)\",\n      \"properties\": {\n        \"dtype\": \"number\",\n        \"std\": 26,\n        \"min\": 15,\n        \"max\": 137,\n        \"num_unique_values\": 64,\n        \"samples\": [\n          87,\n          101\n        ],\n        \"semantic_type\": \"\",\n        \"description\": \"\"\n      }\n    },\n    {\n      \"column\": \"Spending Score (1-100)\",\n      \"properties\": {\n        \"dtype\": \"number\",\n        \"std\": 25,\n        \"min\": 1,\n        \"max\": 99,\n        \"num_unique_values\": 84,\n        \"samples\": [\n          83,\n          39\n        ],\n        \"semantic_type\": \"\",\n        \"description\": \"\"\n      }\n    }\n  ]\n}"
            }
          },
          "metadata": {},
          "execution_count": 5
        }
      ]
    },
    {
      "cell_type": "markdown",
      "source": [
        "head() shows first few rows of the dataset, if last rows needed then we can use 'dataset.tail()'"
      ],
      "metadata": {
        "id": "Vl-6S6CfTI84"
      }
    },
    {
      "cell_type": "markdown",
      "source": [
        "**Data exploration**-\n",
        "1. summary statistics\n",
        "2. missing/null values"
      ],
      "metadata": {
        "id": "tA4G3uweADaC"
      }
    },
    {
      "cell_type": "code",
      "source": [
        "dataset.info()"
      ],
      "metadata": {
        "colab": {
          "base_uri": "https://localhost:8080/"
        },
        "id": "BevN1hoM9HkT",
        "outputId": "33853dc3-6ff1-4ea8-f263-126a7fb5bc34"
      },
      "execution_count": null,
      "outputs": [
        {
          "output_type": "stream",
          "name": "stdout",
          "text": [
            "<class 'pandas.core.frame.DataFrame'>\n",
            "RangeIndex: 200 entries, 0 to 199\n",
            "Data columns (total 5 columns):\n",
            " #   Column                  Non-Null Count  Dtype \n",
            "---  ------                  --------------  ----- \n",
            " 0   CustomerID              200 non-null    int64 \n",
            " 1   Gender                  200 non-null    object\n",
            " 2   Age                     200 non-null    int64 \n",
            " 3   Annual Income (k$)      200 non-null    int64 \n",
            " 4   Spending Score (1-100)  200 non-null    int64 \n",
            "dtypes: int64(4), object(1)\n",
            "memory usage: 7.9+ KB\n"
          ]
        }
      ]
    },
    {
      "cell_type": "markdown",
      "source": [
        "info() is used to display the brief information about the dataset showing if there is any null vale, datatypes, memory usage"
      ],
      "metadata": {
        "id": "VfLChG_ISNXj"
      }
    },
    {
      "cell_type": "code",
      "source": [
        "dataset.isnull().sum()"
      ],
      "metadata": {
        "colab": {
          "base_uri": "https://localhost:8080/",
          "height": 241
        },
        "id": "PVh8J_75A6W9",
        "outputId": "eb82d35f-eb5f-4e74-d30b-da72f4413096"
      },
      "execution_count": null,
      "outputs": [
        {
          "output_type": "execute_result",
          "data": {
            "text/plain": [
              "CustomerID                0\n",
              "Gender                    0\n",
              "Age                       0\n",
              "Annual Income (k$)        0\n",
              "Spending Score (1-100)    0\n",
              "dtype: int64"
            ],
            "text/html": [
              "<div>\n",
              "<style scoped>\n",
              "    .dataframe tbody tr th:only-of-type {\n",
              "        vertical-align: middle;\n",
              "    }\n",
              "\n",
              "    .dataframe tbody tr th {\n",
              "        vertical-align: top;\n",
              "    }\n",
              "\n",
              "    .dataframe thead th {\n",
              "        text-align: right;\n",
              "    }\n",
              "</style>\n",
              "<table border=\"1\" class=\"dataframe\">\n",
              "  <thead>\n",
              "    <tr style=\"text-align: right;\">\n",
              "      <th></th>\n",
              "      <th>0</th>\n",
              "    </tr>\n",
              "  </thead>\n",
              "  <tbody>\n",
              "    <tr>\n",
              "      <th>CustomerID</th>\n",
              "      <td>0</td>\n",
              "    </tr>\n",
              "    <tr>\n",
              "      <th>Gender</th>\n",
              "      <td>0</td>\n",
              "    </tr>\n",
              "    <tr>\n",
              "      <th>Age</th>\n",
              "      <td>0</td>\n",
              "    </tr>\n",
              "    <tr>\n",
              "      <th>Annual Income (k$)</th>\n",
              "      <td>0</td>\n",
              "    </tr>\n",
              "    <tr>\n",
              "      <th>Spending Score (1-100)</th>\n",
              "      <td>0</td>\n",
              "    </tr>\n",
              "  </tbody>\n",
              "</table>\n",
              "</div><br><label><b>dtype:</b> int64</label>"
            ]
          },
          "metadata": {},
          "execution_count": 7
        }
      ]
    },
    {
      "cell_type": "markdown",
      "source": [
        "Finds any null values. Using sum() displays total number of null values in the column"
      ],
      "metadata": {
        "id": "RQFAzRTGSxPa"
      }
    },
    {
      "cell_type": "code",
      "source": [
        "dataset.shape"
      ],
      "metadata": {
        "colab": {
          "base_uri": "https://localhost:8080/"
        },
        "id": "B8CrFQgkQ46u",
        "outputId": "cc5b7f78-7303-43b6-f166-370e1b4406ef"
      },
      "execution_count": null,
      "outputs": [
        {
          "output_type": "execute_result",
          "data": {
            "text/plain": [
              "(200, 5)"
            ]
          },
          "metadata": {},
          "execution_count": 8
        }
      ]
    },
    {
      "cell_type": "markdown",
      "source": [
        "shape is used for understanding the dimensions of rows and columns"
      ],
      "metadata": {
        "id": "_yNf3icwR57N"
      }
    },
    {
      "cell_type": "code",
      "source": [
        "dataset.describe()"
      ],
      "metadata": {
        "colab": {
          "base_uri": "https://localhost:8080/",
          "height": 300
        },
        "id": "AdpAGJ6KA5H7",
        "outputId": "d6694030-e51c-49d9-f6d1-d4d0afd68ea5"
      },
      "execution_count": null,
      "outputs": [
        {
          "output_type": "execute_result",
          "data": {
            "text/plain": [
              "       CustomerID         Age  Annual Income (k$)  Spending Score (1-100)\n",
              "count  200.000000  200.000000          200.000000              200.000000\n",
              "mean   100.500000   38.850000           60.560000               50.200000\n",
              "std     57.879185   13.969007           26.264721               25.823522\n",
              "min      1.000000   18.000000           15.000000                1.000000\n",
              "25%     50.750000   28.750000           41.500000               34.750000\n",
              "50%    100.500000   36.000000           61.500000               50.000000\n",
              "75%    150.250000   49.000000           78.000000               73.000000\n",
              "max    200.000000   70.000000          137.000000               99.000000"
            ],
            "text/html": [
              "\n",
              "  <div id=\"df-544d7e8e-4f4f-4779-975e-d295b8079e37\" class=\"colab-df-container\">\n",
              "    <div>\n",
              "<style scoped>\n",
              "    .dataframe tbody tr th:only-of-type {\n",
              "        vertical-align: middle;\n",
              "    }\n",
              "\n",
              "    .dataframe tbody tr th {\n",
              "        vertical-align: top;\n",
              "    }\n",
              "\n",
              "    .dataframe thead th {\n",
              "        text-align: right;\n",
              "    }\n",
              "</style>\n",
              "<table border=\"1\" class=\"dataframe\">\n",
              "  <thead>\n",
              "    <tr style=\"text-align: right;\">\n",
              "      <th></th>\n",
              "      <th>CustomerID</th>\n",
              "      <th>Age</th>\n",
              "      <th>Annual Income (k$)</th>\n",
              "      <th>Spending Score (1-100)</th>\n",
              "    </tr>\n",
              "  </thead>\n",
              "  <tbody>\n",
              "    <tr>\n",
              "      <th>count</th>\n",
              "      <td>200.000000</td>\n",
              "      <td>200.000000</td>\n",
              "      <td>200.000000</td>\n",
              "      <td>200.000000</td>\n",
              "    </tr>\n",
              "    <tr>\n",
              "      <th>mean</th>\n",
              "      <td>100.500000</td>\n",
              "      <td>38.850000</td>\n",
              "      <td>60.560000</td>\n",
              "      <td>50.200000</td>\n",
              "    </tr>\n",
              "    <tr>\n",
              "      <th>std</th>\n",
              "      <td>57.879185</td>\n",
              "      <td>13.969007</td>\n",
              "      <td>26.264721</td>\n",
              "      <td>25.823522</td>\n",
              "    </tr>\n",
              "    <tr>\n",
              "      <th>min</th>\n",
              "      <td>1.000000</td>\n",
              "      <td>18.000000</td>\n",
              "      <td>15.000000</td>\n",
              "      <td>1.000000</td>\n",
              "    </tr>\n",
              "    <tr>\n",
              "      <th>25%</th>\n",
              "      <td>50.750000</td>\n",
              "      <td>28.750000</td>\n",
              "      <td>41.500000</td>\n",
              "      <td>34.750000</td>\n",
              "    </tr>\n",
              "    <tr>\n",
              "      <th>50%</th>\n",
              "      <td>100.500000</td>\n",
              "      <td>36.000000</td>\n",
              "      <td>61.500000</td>\n",
              "      <td>50.000000</td>\n",
              "    </tr>\n",
              "    <tr>\n",
              "      <th>75%</th>\n",
              "      <td>150.250000</td>\n",
              "      <td>49.000000</td>\n",
              "      <td>78.000000</td>\n",
              "      <td>73.000000</td>\n",
              "    </tr>\n",
              "    <tr>\n",
              "      <th>max</th>\n",
              "      <td>200.000000</td>\n",
              "      <td>70.000000</td>\n",
              "      <td>137.000000</td>\n",
              "      <td>99.000000</td>\n",
              "    </tr>\n",
              "  </tbody>\n",
              "</table>\n",
              "</div>\n",
              "    <div class=\"colab-df-buttons\">\n",
              "\n",
              "  <div class=\"colab-df-container\">\n",
              "    <button class=\"colab-df-convert\" onclick=\"convertToInteractive('df-544d7e8e-4f4f-4779-975e-d295b8079e37')\"\n",
              "            title=\"Convert this dataframe to an interactive table.\"\n",
              "            style=\"display:none;\">\n",
              "\n",
              "  <svg xmlns=\"http://www.w3.org/2000/svg\" height=\"24px\" viewBox=\"0 -960 960 960\">\n",
              "    <path d=\"M120-120v-720h720v720H120Zm60-500h600v-160H180v160Zm220 220h160v-160H400v160Zm0 220h160v-160H400v160ZM180-400h160v-160H180v160Zm440 0h160v-160H620v160ZM180-180h160v-160H180v160Zm440 0h160v-160H620v160Z\"/>\n",
              "  </svg>\n",
              "    </button>\n",
              "\n",
              "  <style>\n",
              "    .colab-df-container {\n",
              "      display:flex;\n",
              "      gap: 12px;\n",
              "    }\n",
              "\n",
              "    .colab-df-convert {\n",
              "      background-color: #E8F0FE;\n",
              "      border: none;\n",
              "      border-radius: 50%;\n",
              "      cursor: pointer;\n",
              "      display: none;\n",
              "      fill: #1967D2;\n",
              "      height: 32px;\n",
              "      padding: 0 0 0 0;\n",
              "      width: 32px;\n",
              "    }\n",
              "\n",
              "    .colab-df-convert:hover {\n",
              "      background-color: #E2EBFA;\n",
              "      box-shadow: 0px 1px 2px rgba(60, 64, 67, 0.3), 0px 1px 3px 1px rgba(60, 64, 67, 0.15);\n",
              "      fill: #174EA6;\n",
              "    }\n",
              "\n",
              "    .colab-df-buttons div {\n",
              "      margin-bottom: 4px;\n",
              "    }\n",
              "\n",
              "    [theme=dark] .colab-df-convert {\n",
              "      background-color: #3B4455;\n",
              "      fill: #D2E3FC;\n",
              "    }\n",
              "\n",
              "    [theme=dark] .colab-df-convert:hover {\n",
              "      background-color: #434B5C;\n",
              "      box-shadow: 0px 1px 3px 1px rgba(0, 0, 0, 0.15);\n",
              "      filter: drop-shadow(0px 1px 2px rgba(0, 0, 0, 0.3));\n",
              "      fill: #FFFFFF;\n",
              "    }\n",
              "  </style>\n",
              "\n",
              "    <script>\n",
              "      const buttonEl =\n",
              "        document.querySelector('#df-544d7e8e-4f4f-4779-975e-d295b8079e37 button.colab-df-convert');\n",
              "      buttonEl.style.display =\n",
              "        google.colab.kernel.accessAllowed ? 'block' : 'none';\n",
              "\n",
              "      async function convertToInteractive(key) {\n",
              "        const element = document.querySelector('#df-544d7e8e-4f4f-4779-975e-d295b8079e37');\n",
              "        const dataTable =\n",
              "          await google.colab.kernel.invokeFunction('convertToInteractive',\n",
              "                                                    [key], {});\n",
              "        if (!dataTable) return;\n",
              "\n",
              "        const docLinkHtml = 'Like what you see? Visit the ' +\n",
              "          '<a target=\"_blank\" href=https://colab.research.google.com/notebooks/data_table.ipynb>data table notebook</a>'\n",
              "          + ' to learn more about interactive tables.';\n",
              "        element.innerHTML = '';\n",
              "        dataTable['output_type'] = 'display_data';\n",
              "        await google.colab.output.renderOutput(dataTable, element);\n",
              "        const docLink = document.createElement('div');\n",
              "        docLink.innerHTML = docLinkHtml;\n",
              "        element.appendChild(docLink);\n",
              "      }\n",
              "    </script>\n",
              "  </div>\n",
              "\n",
              "\n",
              "    <div id=\"df-8e1415d5-7d2d-49fa-b1f2-e1caf9ca9166\">\n",
              "      <button class=\"colab-df-quickchart\" onclick=\"quickchart('df-8e1415d5-7d2d-49fa-b1f2-e1caf9ca9166')\"\n",
              "                title=\"Suggest charts\"\n",
              "                style=\"display:none;\">\n",
              "\n",
              "<svg xmlns=\"http://www.w3.org/2000/svg\" height=\"24px\"viewBox=\"0 0 24 24\"\n",
              "     width=\"24px\">\n",
              "    <g>\n",
              "        <path d=\"M19 3H5c-1.1 0-2 .9-2 2v14c0 1.1.9 2 2 2h14c1.1 0 2-.9 2-2V5c0-1.1-.9-2-2-2zM9 17H7v-7h2v7zm4 0h-2V7h2v10zm4 0h-2v-4h2v4z\"/>\n",
              "    </g>\n",
              "</svg>\n",
              "      </button>\n",
              "\n",
              "<style>\n",
              "  .colab-df-quickchart {\n",
              "      --bg-color: #E8F0FE;\n",
              "      --fill-color: #1967D2;\n",
              "      --hover-bg-color: #E2EBFA;\n",
              "      --hover-fill-color: #174EA6;\n",
              "      --disabled-fill-color: #AAA;\n",
              "      --disabled-bg-color: #DDD;\n",
              "  }\n",
              "\n",
              "  [theme=dark] .colab-df-quickchart {\n",
              "      --bg-color: #3B4455;\n",
              "      --fill-color: #D2E3FC;\n",
              "      --hover-bg-color: #434B5C;\n",
              "      --hover-fill-color: #FFFFFF;\n",
              "      --disabled-bg-color: #3B4455;\n",
              "      --disabled-fill-color: #666;\n",
              "  }\n",
              "\n",
              "  .colab-df-quickchart {\n",
              "    background-color: var(--bg-color);\n",
              "    border: none;\n",
              "    border-radius: 50%;\n",
              "    cursor: pointer;\n",
              "    display: none;\n",
              "    fill: var(--fill-color);\n",
              "    height: 32px;\n",
              "    padding: 0;\n",
              "    width: 32px;\n",
              "  }\n",
              "\n",
              "  .colab-df-quickchart:hover {\n",
              "    background-color: var(--hover-bg-color);\n",
              "    box-shadow: 0 1px 2px rgba(60, 64, 67, 0.3), 0 1px 3px 1px rgba(60, 64, 67, 0.15);\n",
              "    fill: var(--button-hover-fill-color);\n",
              "  }\n",
              "\n",
              "  .colab-df-quickchart-complete:disabled,\n",
              "  .colab-df-quickchart-complete:disabled:hover {\n",
              "    background-color: var(--disabled-bg-color);\n",
              "    fill: var(--disabled-fill-color);\n",
              "    box-shadow: none;\n",
              "  }\n",
              "\n",
              "  .colab-df-spinner {\n",
              "    border: 2px solid var(--fill-color);\n",
              "    border-color: transparent;\n",
              "    border-bottom-color: var(--fill-color);\n",
              "    animation:\n",
              "      spin 1s steps(1) infinite;\n",
              "  }\n",
              "\n",
              "  @keyframes spin {\n",
              "    0% {\n",
              "      border-color: transparent;\n",
              "      border-bottom-color: var(--fill-color);\n",
              "      border-left-color: var(--fill-color);\n",
              "    }\n",
              "    20% {\n",
              "      border-color: transparent;\n",
              "      border-left-color: var(--fill-color);\n",
              "      border-top-color: var(--fill-color);\n",
              "    }\n",
              "    30% {\n",
              "      border-color: transparent;\n",
              "      border-left-color: var(--fill-color);\n",
              "      border-top-color: var(--fill-color);\n",
              "      border-right-color: var(--fill-color);\n",
              "    }\n",
              "    40% {\n",
              "      border-color: transparent;\n",
              "      border-right-color: var(--fill-color);\n",
              "      border-top-color: var(--fill-color);\n",
              "    }\n",
              "    60% {\n",
              "      border-color: transparent;\n",
              "      border-right-color: var(--fill-color);\n",
              "    }\n",
              "    80% {\n",
              "      border-color: transparent;\n",
              "      border-right-color: var(--fill-color);\n",
              "      border-bottom-color: var(--fill-color);\n",
              "    }\n",
              "    90% {\n",
              "      border-color: transparent;\n",
              "      border-bottom-color: var(--fill-color);\n",
              "    }\n",
              "  }\n",
              "</style>\n",
              "\n",
              "      <script>\n",
              "        async function quickchart(key) {\n",
              "          const quickchartButtonEl =\n",
              "            document.querySelector('#' + key + ' button');\n",
              "          quickchartButtonEl.disabled = true;  // To prevent multiple clicks.\n",
              "          quickchartButtonEl.classList.add('colab-df-spinner');\n",
              "          try {\n",
              "            const charts = await google.colab.kernel.invokeFunction(\n",
              "                'suggestCharts', [key], {});\n",
              "          } catch (error) {\n",
              "            console.error('Error during call to suggestCharts:', error);\n",
              "          }\n",
              "          quickchartButtonEl.classList.remove('colab-df-spinner');\n",
              "          quickchartButtonEl.classList.add('colab-df-quickchart-complete');\n",
              "        }\n",
              "        (() => {\n",
              "          let quickchartButtonEl =\n",
              "            document.querySelector('#df-8e1415d5-7d2d-49fa-b1f2-e1caf9ca9166 button');\n",
              "          quickchartButtonEl.style.display =\n",
              "            google.colab.kernel.accessAllowed ? 'block' : 'none';\n",
              "        })();\n",
              "      </script>\n",
              "    </div>\n",
              "\n",
              "    </div>\n",
              "  </div>\n"
            ],
            "application/vnd.google.colaboratory.intrinsic+json": {
              "type": "dataframe",
              "summary": "{\n  \"name\": \"dataset\",\n  \"rows\": 8,\n  \"fields\": [\n    {\n      \"column\": \"CustomerID\",\n      \"properties\": {\n        \"dtype\": \"number\",\n        \"std\": 71.77644232399086,\n        \"min\": 1.0,\n        \"max\": 200.0,\n        \"num_unique_values\": 6,\n        \"samples\": [\n          200.0,\n          100.5,\n          150.25\n        ],\n        \"semantic_type\": \"\",\n        \"description\": \"\"\n      }\n    },\n    {\n      \"column\": \"Age\",\n      \"properties\": {\n        \"dtype\": \"number\",\n        \"std\": 60.50135224289181,\n        \"min\": 13.969007331558883,\n        \"max\": 200.0,\n        \"num_unique_values\": 8,\n        \"samples\": [\n          38.85,\n          36.0,\n          200.0\n        ],\n        \"semantic_type\": \"\",\n        \"description\": \"\"\n      }\n    },\n    {\n      \"column\": \"Annual Income (k$)\",\n      \"properties\": {\n        \"dtype\": \"number\",\n        \"std\": 62.0103834127095,\n        \"min\": 15.0,\n        \"max\": 200.0,\n        \"num_unique_values\": 8,\n        \"samples\": [\n          60.56,\n          61.5,\n          200.0\n        ],\n        \"semantic_type\": \"\",\n        \"description\": \"\"\n      }\n    },\n    {\n      \"column\": \"Spending Score (1-100)\",\n      \"properties\": {\n        \"dtype\": \"number\",\n        \"std\": 61.42496609345541,\n        \"min\": 1.0,\n        \"max\": 200.0,\n        \"num_unique_values\": 8,\n        \"samples\": [\n          50.2,\n          50.0,\n          200.0\n        ],\n        \"semantic_type\": \"\",\n        \"description\": \"\"\n      }\n    }\n  ]\n}"
            }
          },
          "metadata": {},
          "execution_count": 9
        }
      ]
    },
    {
      "cell_type": "markdown",
      "source": [
        "display the statistical info of the dataset including mean, std, min, max, quartiles"
      ],
      "metadata": {
        "id": "NMHnbWbXS01v"
      }
    },
    {
      "cell_type": "markdown",
      "source": [
        "Now, prepare the data for clustering, but how?"
      ],
      "metadata": {
        "id": "ZYX6TZnqTvmf"
      }
    },
    {
      "cell_type": "markdown",
      "source": [
        "firstly sample extract for needed columns from the dataset"
      ],
      "metadata": {
        "id": "u1d-G5t_T7qy"
      }
    },
    {
      "cell_type": "code",
      "source": [
        "x= dataset.iloc[:,[3,4]].values"
      ],
      "metadata": {
        "id": "lVuyIZepSBUk"
      },
      "execution_count": null,
      "outputs": []
    },
    {
      "cell_type": "markdown",
      "source": [
        "dataframe from pandas that helps to retrieve the rows from the dataframe, iloc is used to extract the columns based on their index numbers. using .vales displays only the values as an array. {which is easier for plotting the clusters}"
      ],
      "metadata": {
        "id": "vgkVTUAlUnsc"
      }
    },
    {
      "cell_type": "code",
      "source": [
        "x"
      ],
      "metadata": {
        "colab": {
          "base_uri": "https://localhost:8080/"
        },
        "id": "Uqt3nNz-VSaa",
        "outputId": "f66c02bf-4d68-415c-f5d4-68d32061a381"
      },
      "execution_count": null,
      "outputs": [
        {
          "output_type": "execute_result",
          "data": {
            "text/plain": [
              "array([[ 15,  39],\n",
              "       [ 15,  81],\n",
              "       [ 16,   6],\n",
              "       [ 16,  77],\n",
              "       [ 17,  40],\n",
              "       [ 17,  76],\n",
              "       [ 18,   6],\n",
              "       [ 18,  94],\n",
              "       [ 19,   3],\n",
              "       [ 19,  72],\n",
              "       [ 19,  14],\n",
              "       [ 19,  99],\n",
              "       [ 20,  15],\n",
              "       [ 20,  77],\n",
              "       [ 20,  13],\n",
              "       [ 20,  79],\n",
              "       [ 21,  35],\n",
              "       [ 21,  66],\n",
              "       [ 23,  29],\n",
              "       [ 23,  98],\n",
              "       [ 24,  35],\n",
              "       [ 24,  73],\n",
              "       [ 25,   5],\n",
              "       [ 25,  73],\n",
              "       [ 28,  14],\n",
              "       [ 28,  82],\n",
              "       [ 28,  32],\n",
              "       [ 28,  61],\n",
              "       [ 29,  31],\n",
              "       [ 29,  87],\n",
              "       [ 30,   4],\n",
              "       [ 30,  73],\n",
              "       [ 33,   4],\n",
              "       [ 33,  92],\n",
              "       [ 33,  14],\n",
              "       [ 33,  81],\n",
              "       [ 34,  17],\n",
              "       [ 34,  73],\n",
              "       [ 37,  26],\n",
              "       [ 37,  75],\n",
              "       [ 38,  35],\n",
              "       [ 38,  92],\n",
              "       [ 39,  36],\n",
              "       [ 39,  61],\n",
              "       [ 39,  28],\n",
              "       [ 39,  65],\n",
              "       [ 40,  55],\n",
              "       [ 40,  47],\n",
              "       [ 40,  42],\n",
              "       [ 40,  42],\n",
              "       [ 42,  52],\n",
              "       [ 42,  60],\n",
              "       [ 43,  54],\n",
              "       [ 43,  60],\n",
              "       [ 43,  45],\n",
              "       [ 43,  41],\n",
              "       [ 44,  50],\n",
              "       [ 44,  46],\n",
              "       [ 46,  51],\n",
              "       [ 46,  46],\n",
              "       [ 46,  56],\n",
              "       [ 46,  55],\n",
              "       [ 47,  52],\n",
              "       [ 47,  59],\n",
              "       [ 48,  51],\n",
              "       [ 48,  59],\n",
              "       [ 48,  50],\n",
              "       [ 48,  48],\n",
              "       [ 48,  59],\n",
              "       [ 48,  47],\n",
              "       [ 49,  55],\n",
              "       [ 49,  42],\n",
              "       [ 50,  49],\n",
              "       [ 50,  56],\n",
              "       [ 54,  47],\n",
              "       [ 54,  54],\n",
              "       [ 54,  53],\n",
              "       [ 54,  48],\n",
              "       [ 54,  52],\n",
              "       [ 54,  42],\n",
              "       [ 54,  51],\n",
              "       [ 54,  55],\n",
              "       [ 54,  41],\n",
              "       [ 54,  44],\n",
              "       [ 54,  57],\n",
              "       [ 54,  46],\n",
              "       [ 57,  58],\n",
              "       [ 57,  55],\n",
              "       [ 58,  60],\n",
              "       [ 58,  46],\n",
              "       [ 59,  55],\n",
              "       [ 59,  41],\n",
              "       [ 60,  49],\n",
              "       [ 60,  40],\n",
              "       [ 60,  42],\n",
              "       [ 60,  52],\n",
              "       [ 60,  47],\n",
              "       [ 60,  50],\n",
              "       [ 61,  42],\n",
              "       [ 61,  49],\n",
              "       [ 62,  41],\n",
              "       [ 62,  48],\n",
              "       [ 62,  59],\n",
              "       [ 62,  55],\n",
              "       [ 62,  56],\n",
              "       [ 62,  42],\n",
              "       [ 63,  50],\n",
              "       [ 63,  46],\n",
              "       [ 63,  43],\n",
              "       [ 63,  48],\n",
              "       [ 63,  52],\n",
              "       [ 63,  54],\n",
              "       [ 64,  42],\n",
              "       [ 64,  46],\n",
              "       [ 65,  48],\n",
              "       [ 65,  50],\n",
              "       [ 65,  43],\n",
              "       [ 65,  59],\n",
              "       [ 67,  43],\n",
              "       [ 67,  57],\n",
              "       [ 67,  56],\n",
              "       [ 67,  40],\n",
              "       [ 69,  58],\n",
              "       [ 69,  91],\n",
              "       [ 70,  29],\n",
              "       [ 70,  77],\n",
              "       [ 71,  35],\n",
              "       [ 71,  95],\n",
              "       [ 71,  11],\n",
              "       [ 71,  75],\n",
              "       [ 71,   9],\n",
              "       [ 71,  75],\n",
              "       [ 72,  34],\n",
              "       [ 72,  71],\n",
              "       [ 73,   5],\n",
              "       [ 73,  88],\n",
              "       [ 73,   7],\n",
              "       [ 73,  73],\n",
              "       [ 74,  10],\n",
              "       [ 74,  72],\n",
              "       [ 75,   5],\n",
              "       [ 75,  93],\n",
              "       [ 76,  40],\n",
              "       [ 76,  87],\n",
              "       [ 77,  12],\n",
              "       [ 77,  97],\n",
              "       [ 77,  36],\n",
              "       [ 77,  74],\n",
              "       [ 78,  22],\n",
              "       [ 78,  90],\n",
              "       [ 78,  17],\n",
              "       [ 78,  88],\n",
              "       [ 78,  20],\n",
              "       [ 78,  76],\n",
              "       [ 78,  16],\n",
              "       [ 78,  89],\n",
              "       [ 78,   1],\n",
              "       [ 78,  78],\n",
              "       [ 78,   1],\n",
              "       [ 78,  73],\n",
              "       [ 79,  35],\n",
              "       [ 79,  83],\n",
              "       [ 81,   5],\n",
              "       [ 81,  93],\n",
              "       [ 85,  26],\n",
              "       [ 85,  75],\n",
              "       [ 86,  20],\n",
              "       [ 86,  95],\n",
              "       [ 87,  27],\n",
              "       [ 87,  63],\n",
              "       [ 87,  13],\n",
              "       [ 87,  75],\n",
              "       [ 87,  10],\n",
              "       [ 87,  92],\n",
              "       [ 88,  13],\n",
              "       [ 88,  86],\n",
              "       [ 88,  15],\n",
              "       [ 88,  69],\n",
              "       [ 93,  14],\n",
              "       [ 93,  90],\n",
              "       [ 97,  32],\n",
              "       [ 97,  86],\n",
              "       [ 98,  15],\n",
              "       [ 98,  88],\n",
              "       [ 99,  39],\n",
              "       [ 99,  97],\n",
              "       [101,  24],\n",
              "       [101,  68],\n",
              "       [103,  17],\n",
              "       [103,  85],\n",
              "       [103,  23],\n",
              "       [103,  69],\n",
              "       [113,   8],\n",
              "       [113,  91],\n",
              "       [120,  16],\n",
              "       [120,  79],\n",
              "       [126,  28],\n",
              "       [126,  74],\n",
              "       [137,  18],\n",
              "       [137,  83]])"
            ]
          },
          "metadata": {},
          "execution_count": 11
        }
      ]
    },
    {
      "cell_type": "markdown",
      "source": [
        "**Performing Elbow Method**, why?\n",
        "to find the optimal k-value"
      ],
      "metadata": {
        "id": "PhaAQnxIT6Mg"
      }
    },
    {
      "cell_type": "markdown",
      "source": [
        "why so?-"
      ],
      "metadata": {
        "id": "W96ZMluDXAxm"
      }
    },
    {
      "cell_type": "markdown",
      "source": [
        "optimal k-value helps to balance the model complexity and accuracy, preventing overfitting and underfitting\n",
        "[if k=2, it means 2 clusters]"
      ],
      "metadata": {
        "id": "x-YutqPYXEUZ"
      }
    },
    {
      "cell_type": "markdown",
      "source": [
        "what's that?"
      ],
      "metadata": {
        "id": "dAP61IQyXgZj"
      }
    },
    {
      "cell_type": "markdown",
      "source": [
        "overfitting and underfitting are two common challenges in machine learning, where a model's performance is suboptimal.\n",
        "\n",
        "Overfitting occurs when the model learns the training data too well, including the noise irrelivent details.\n",
        "\n",
        "Underfitting occurs when the model is too simple and fails to capture the underlying pattern in the data, resulting in poor performance in both training and test data"
      ],
      "metadata": {
        "id": "pwE3o4ELXiNc"
      }
    },
    {
      "cell_type": "markdown",
      "source": [
        "In machine learning, training data is used to teach the model, while testing data is used to evaluate its performance on new, unseen data.\n",
        "\n",
        "The training data is typically larger and used to adjust model parameters, while the testing data is used after the training is complete to assess the model's ability to generalize."
      ],
      "metadata": {
        "id": "UAH279XTY0PI"
      }
    },
    {
      "cell_type": "markdown",
      "source": [
        "This method involves plotting the within-cluster sum of squares (WCSS) against the number of clusters and identifying the \"elbow\" point where the rate of decrease in WCSS starts to slow down significantly. Elbow method is an unsupervised learning method to determine the optimal no. of clusters, one of the popular method to determine the optimal no. of k.\n",
        "\n",
        "k-means clustering is the unsupervised learning algorithm that groups the unlabeled dataset into different clusters. Here, the letter **k** denotes the no. of predefined clusters that need to be created in the process.\n",
        "\n",
        "\n",
        "\n",
        "![elbow method.png](data:image/png;base64,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)"
      ],
      "metadata": {
        "id": "9L26n-SqaDMh"
      }
    },
    {
      "cell_type": "markdown",
      "source": [
        "importing cluster from sklearn library"
      ],
      "metadata": {
        "id": "oyL75iZIxSHY"
      }
    },
    {
      "cell_type": "code",
      "source": [
        "from sklearn.cluster import KMeans\n",
        "wcss=[]"
      ],
      "metadata": {
        "id": "XbIimUAhW4QI"
      },
      "execution_count": null,
      "outputs": []
    },
    {
      "cell_type": "markdown",
      "source": [
        "for each value of k, wcss is calculated [within clusters sum of square]. WCSS is the sum of square distance between each point and the centroid in a cluster. When plot wcss with the k-value the plot looks like an elbow, as the no. of cluster increases wcss value will start to decrease. WCSS value is the largest when k=1."
      ],
      "metadata": {
        "id": "50e35PZY5VsN"
      }
    },
    {
      "cell_type": "code",
      "source": [
        "for i in range (1, 11):\n",
        "  kmeans= KMeans(n_clusters= i, init= 'k-means++', random_state=0)\n",
        "  kmeans.fit(x)\n",
        "  wcss.append(kmeans.inertia_)"
      ],
      "metadata": {
        "id": "JD4aBGmjgr_q"
      },
      "execution_count": null,
      "outputs": []
    },
    {
      "cell_type": "markdown",
      "source": [
        "this is used to iterate the kmeans algo for our data fro i iteration from 1 to 11 as we assume that maximum no. of cluster cannot be more than 10.\n",
        "\n",
        "here we are using the **initializer [init] as 'k-means++'** this means kmeans algorithm ensures a smarter initialization of the centroids and improves the quality of clustering.\n",
        "\n",
        "here **(kmeans.intertia_)** is a formula used to segregate the data points into clusters"
      ],
      "metadata": {
        "id": "gLWS6vaODZNz"
      }
    },
    {
      "cell_type": "code",
      "source": [
        "len(wcss)==len(range(1,11))"
      ],
      "metadata": {
        "colab": {
          "base_uri": "https://localhost:8080/"
        },
        "id": "BjYfO7YD_oYC",
        "outputId": "d22418cb-8d86-499c-d0c5-301db8618926"
      },
      "execution_count": null,
      "outputs": [
        {
          "output_type": "execute_result",
          "data": {
            "text/plain": [
              "True"
            ]
          },
          "metadata": {},
          "execution_count": 14
        }
      ]
    },
    {
      "cell_type": "markdown",
      "source": [
        "to check whether wcss=the range inserted"
      ],
      "metadata": {
        "id": "TlZpm_Z2F-ou"
      }
    },
    {
      "cell_type": "code",
      "source": [
        "plt.plot(range(1,11), wcss)\n",
        "plt.title('The Elbow Method')\n",
        "plt.xlabel('No. of clusters')\n",
        "plt.ylabel('WCSS values')\n",
        "plt.show()"
      ],
      "metadata": {
        "colab": {
          "base_uri": "https://localhost:8080/",
          "height": 472
        },
        "id": "FjanDgs3Y9_i",
        "outputId": "1315e8c1-5f84-43f6-aa4c-44ad204bbbf4"
      },
      "execution_count": null,
      "outputs": [
        {
          "output_type": "display_data",
          "data": {
            "text/plain": [
              "<Figure size 640x480 with 1 Axes>"
            ],
            "image/png": "[encoded data removed]"
          },
          "metadata": {}
        }
      ]
    },
    {
      "cell_type": "markdown",
      "source": [
        "Now train a model using unsupervised learning algorithm [K-means]"
      ],
      "metadata": {
        "id": "AMzSyDp2Z8jM"
      }
    },
    {
      "cell_type": "code",
      "source": [
        "kmeansmodel=KMeans(n_clusters=5, init='k-means++', random_state=0)\n",
        "y_kmeans= kmeansmodel.fit_predict(x)"
      ],
      "metadata": {
        "id": "TsWD45jtaGbI"
      },
      "execution_count": null,
      "outputs": []
    },
    {
      "cell_type": "code",
      "source": [
        "plt.scatter(x[y_kmeans==0,0], x[y_kmeans==0,1], s=40, c='red', label='Customer1')\n",
        "plt.scatter(x[y_kmeans==1,0], x[y_kmeans==1,1], s=40, c='blue', label='Customer2')\n",
        "plt.scatter(x[y_kmeans==2,0], x[y_kmeans==2,1], s=40, c='green', label='Customer3')\n",
        "plt.scatter(x[y_kmeans==3,0], x[y_kmeans==3,1], s=40, c='cyan', label='Customer4')\n",
        "plt.scatter(x[y_kmeans==4,0], x[y_kmeans==4,1], s=40, c='yellow', label='Customer5')\n",
        "plt.scatter(kmeans.cluster_centers_[:,0], kmeans.cluster_centers_[:,1], s=100, c='black', label='Centroids')\n",
        "plt.title('Clusters of customers')\n",
        "plt.xlabel('Annual income(K$)')\n",
        "plt.ylabel('Spending Score(1-100)')\n",
        "plt.legend()\n",
        "plt.show()"
      ],
      "metadata": {
        "colab": {
          "base_uri": "https://localhost:8080/",
          "height": 472
        },
        "id": "wHIuEt1XHBIL",
        "outputId": "dc5d06e2-ba56-413f-b962-bcdcf0933a33"
      },
      "execution_count": null,
      "outputs": [
        {
          "output_type": "display_data",
          "data": {
            "text/plain": [
              "<Figure size 640x480 with 1 Axes>"
            ],
            "image/png": "[encoded data removed]"
          },
          "metadata": {}
        }
      ]
    },
    {
      "cell_type": "markdown",
      "source": [
        "**Insights:**\n",
        "\n",
        "Yellow cluster represents the cutomers with less salary but spending pattern is quite high, on the other hand Green cluster represents customer with high salary but low spending score.\n",
        "\n",
        "The Red cluster will be the targeted customers by organization as it is a balance mix of decent annual income and well enough spending score. Businesses would target these customers to promote their services."
      ],
      "metadata": {
        "id": "qA7hDQIVUVNo"
      }
    },
    {
      "cell_type": "code",
      "source": [],
      "metadata": {
        "id": "ClkE6XzdUW4r"
      },
      "execution_count": null,
      "outputs": []
    }
  ]
}